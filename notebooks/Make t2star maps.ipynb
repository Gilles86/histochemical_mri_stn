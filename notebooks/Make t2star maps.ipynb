{
 "cells": [
  {
   "cell_type": "code",
   "execution_count": 1,
   "metadata": {
    "collapsed": true
   },
   "outputs": [],
   "source": [
    "!rm -rf /home/gdholla1/projects/post_mortem/workflow_folders/t2star/"
   ]
  },
  {
   "cell_type": "code",
   "execution_count": 13,
   "metadata": {
    "collapsed": false
   },
   "outputs": [],
   "source": [
    "def fit_t2(t2w, tes, output=None):\n",
    "    import numpy as np\n",
    "    import nibabel as nb\n",
    "    import os\n",
    "    \n",
    "    if not output:\n",
    "        output = os.path.abspath('t2.nii.gz')\n",
    "    \n",
    "    tes = np.array(tes)    \n",
    "    x = np.concatenate((np.ones_like(tes[..., np.newaxis]), -tes[..., np.newaxis]), 1)\n",
    "    \n",
    "    flash_images = [nb.load(fn) for fn in t2w]\n",
    "    flashes = [flash.get_data() for flash in flash_images]\n",
    "    \n",
    "    data = np.log(flashes)\n",
    "    data[data < 0 ] = 1e-6\n",
    "    \n",
    "    beta = np.linalg.inv(x.T.dot(x)).dot(x.T).dot(data.reshape(data.shape[0], np.prod(data.shape[1:]))).reshape((2,) + data.shape[1:])\n",
    "\n",
    "    s0 = np.exp(beta[0])\n",
    "    t2 = 1./beta[1]\n",
    "    \n",
    "    nb.save(nb.Nifti1Image(t2, flash_images[0].affine), output)\n",
    "    \n",
    "    pd = os.path.abspath('pd.nii.gz')\n",
    "    nb.save(nb.Nifti1Image(s0, flash_images[0].affine), pd)\n",
    "    \n",
    "    return output, pd"
   ]
  },
  {
   "cell_type": "code",
   "execution_count": 14,
   "metadata": {
    "collapsed": true
   },
   "outputs": [],
   "source": [
    "import nipype.pipeline.engine as pe"
   ]
  },
  {
   "cell_type": "code",
   "execution_count": 15,
   "metadata": {
    "collapsed": true
   },
   "outputs": [],
   "source": [
    "import glob"
   ]
  },
  {
   "cell_type": "code",
   "execution_count": 16,
   "metadata": {
    "collapsed": true
   },
   "outputs": [],
   "source": [
    "import nipype.interfaces.io as nio\n",
    "import nipype.pipeline.engine as pe\n",
    "from nipype.interfaces import utility as util"
   ]
  },
  {
   "cell_type": "code",
   "execution_count": 30,
   "metadata": {
    "collapsed": false
   },
   "outputs": [
    {
     "name": "stderr",
     "output_type": "stream",
     "text": [
      "<string>:15: RuntimeWarning: divide by zero encountered in log\n"
     ]
    },
    {
     "data": {
      "text/plain": [
       "<networkx.classes.digraph.DiGraph at 0x9bea1d0>"
      ]
     },
     "execution_count": 30,
     "metadata": {},
     "output_type": "execute_result"
    }
   ],
   "source": [
    "workflow = pe.Workflow(name='t2star')\n",
    "workflow.base_dir = '/home/gdholla1/projects/post_mortem/workflow_folders'\n",
    "\n",
    "subject_ids = [13095, 14037, 14051, 14069, 15033, 15035, 15055]\n",
    "subject_ids += [12062, 12082, 12104]\n",
    "\n",
    "tes = [4.67, 11.77, 18.87, 25.97, 33.07, 40.17, 47.27, 54.37]\n",
    "templates = {'t2w':'/home/gdholla1/projects/post_mortem/data/raw/T2s_map/{subject_id}/{subject_id}_S*_FLASH_3D_as_gre_0p20_cor_8echos_T2sMap*_Te{te}.nii'}\n",
    "\n",
    "selector = pe.MapNode(nio.SelectFiles(templates), iterfield=['te'], name='selector')\n",
    "selector.inputs.te = tes\n",
    "selector.iterables = [('subject_id', subject_ids)]\n",
    "\n",
    "t2_fitter = pe.Node(util.Function(function=fit_t2, \n",
    "                                  input_names=['t2w', 'tes'],\n",
    "#                                   ignore_exception=True,\n",
    "                                  output_names=['t2', 'pd']),\n",
    "                   name='t2_fitter')\n",
    "\n",
    "\n",
    "\n",
    "t2_fitter.inputs.tes = tes\n",
    "\n",
    "workflow.connect(selector, 't2w', t2_fitter, 't2w')\n",
    "\n",
    "ds = pe.Node(nio.DataSink(base_directory='/home/gdholla1/projects/post_mortem/data/derivatives'), name='datasink')\n",
    "workflow.connect(t2_fitter, 't2', ds, 't2maps')\n",
    "workflow.connect(t2_fitter, 'pd', ds, 'proton_density')\n",
    "\n",
    "workflow.run()\n"
   ]
  },
  {
   "cell_type": "code",
   "execution_count": 31,
   "metadata": {
    "collapsed": true
   },
   "outputs": [],
   "source": [
    "import nibabel as nb"
   ]
  },
  {
   "cell_type": "code",
   "execution_count": 32,
   "metadata": {
    "collapsed": false
   },
   "outputs": [],
   "source": [
    "import shutil\n",
    "\n",
    "for subject_id in subject_ids:\n",
    "    \n",
    "    old_fn = '/home/gdholla1/projects/post_mortem/data/derivatives/t2maps/_subject_id_{subject_id}/t2.nii.gz'.format(**locals())\n",
    "    new_fn = '/home/public/HISTO_TO_MRI_1/MRI_DATA/MRI/Control/T2s_map/{subject_id}/{subject_id}_t2map.nii.gz'.format(**locals())\n",
    "    shutil.copy(old_fn, new_fn)\n",
    "    \n",
    "    \n",
    "    old_fn = '/home/gdholla1/projects/post_mortem/data/derivatives/proton_density/_subject_id_{subject_id}/pd.nii.gz'.format(**locals())\n",
    "    new_fn = '/home/public/HISTO_TO_MRI_1/MRI_DATA/MRI/Control/T2s_map/{subject_id}/{subject_id}_pd.nii.gz'.format(**locals())\n",
    "    shutil.copy(old_fn, new_fn)    "
   ]
  }
 ],
 "metadata": {
  "kernelspec": {
   "display_name": "Python 2",
   "language": "python",
   "name": "python2"
  },
  "language_info": {
   "codemirror_mode": {
    "name": "ipython",
    "version": 2
   },
   "file_extension": ".py",
   "mimetype": "text/x-python",
   "name": "python",
   "nbconvert_exporter": "python",
   "pygments_lexer": "ipython2",
   "version": "2.7.3"
  }
 },
 "nbformat": 4,
 "nbformat_minor": 1
}
