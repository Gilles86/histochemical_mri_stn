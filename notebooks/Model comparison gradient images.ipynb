{
 "cells": [
  {
   "cell_type": "code",
   "execution_count": 1,
   "metadata": {
    "collapsed": true
   },
   "outputs": [],
   "source": [
    "import os\n",
    "import pandas\n",
    "\n",
    "import numpy as np\n",
    "import itertools\n",
    "\n",
    "from multiprocessing import Pool\n",
    "\n",
    "import scipy as sp\n",
    "from scipy import optimize\n",
    "\n",
    "import pickle as pkl\n",
    "\n",
    "def exgauss_pdf(x, mu, sigma, nu):\n",
    "\n",
    "    nu = 1./nu\n",
    "\n",
    "    p1 = nu / 2. * np.exp((nu/2.)  * (2 * mu + nu * sigma**2. - 2. * x))\n",
    "\n",
    "\n",
    "    p2 = sp.special.erfc((mu + nu * sigma**2 - x)/ (np.sqrt(2.) * sigma))\n",
    "\n",
    "    return p1 * p2\n",
    "\n",
    "def mixed_exgauss_likelihood(x, w, mu, sigma, nu):\n",
    "\n",
    "    # Create indiviudal\n",
    "    pdfs = w * exgauss_pdf(x[:, np.newaxis], mu, nu, sigma)\n",
    "\n",
    "    ll = np.sum(np.log(np.sum(pdfs, 1)))\n",
    "\n",
    "    if ((np.isnan(ll)) | (ll == np.inf)):\n",
    "        return -np.inf\n",
    "\n",
    "\n",
    "    return ll\n",
    "\n",
    "def input_optimizer(pars, x, n_clusters):\n",
    "\n",
    "    pars = np.array(pars)\n",
    "\n",
    "    if np.sum(pars[:n_clusters-1]) > 1:\n",
    "        return np.inf\n",
    "\n",
    "    pars = np.insert(pars, n_clusters-1, 1 - np.sum(pars[:n_clusters-1]))\n",
    "\n",
    "    if np.any(pars[:n_clusters] < 0.05):\n",
    "        return np.inf\n",
    "\n",
    "    w = pars[:n_clusters][np.newaxis, :]\n",
    "    mu = pars[n_clusters:n_clusters*2][np.newaxis, :]\n",
    "    nu = pars[n_clusters*2:n_clusters*3][np.newaxis, :]\n",
    "    sigma = pars[n_clusters*3:n_clusters*4][np.newaxis, :]\n",
    "\n",
    "    return -mixed_exgauss_likelihood(x, w, mu, sigma, nu)\n",
    "\n",
    "\n",
    "def _fit(input_args, disp=False, popsize=100, **kwargs):\n",
    "\n",
    "    sp.random.seed()\n",
    "\n",
    "    x, n_clusters = input_args\n",
    "\n",
    "    weight_bounds = [(1e-3, 1)] * (n_clusters - 1)\n",
    "    mu_bounds = [(-1., 2.5)] * n_clusters\n",
    "    nu_bounds = [(1e-3, 2.5)] * n_clusters\n",
    "    sigma_bounds = [(1e-3, 2.5)] * n_clusters\n",
    "\n",
    "    bounds = weight_bounds + mu_bounds + nu_bounds + sigma_bounds\n",
    "\n",
    "    result = sp.optimize.differential_evolution(input_optimizer, bounds, (x, n_clusters), polish=True, disp=disp, maxiter=500, popsize=popsize, **kwargs)\n",
    "    result = sp.optimize.minimize(input_optimizer, result.x, (x, n_clusters), method='SLSQP', bounds=bounds, **kwargs)\n",
    "\n",
    "    return result\n",
    "\n",
    "class SimpleExgaussMixture(object):\n",
    "\n",
    "\n",
    "    def __init__(self, data, n_clusters):\n",
    "\n",
    "        self.data = data\n",
    "        self.n_clusters = n_clusters\n",
    "        self.n_parameters = n_clusters * 4 - 1\n",
    "        self.likelihood = -np.inf\n",
    "\n",
    "        self.previous_likelihoods = []\n",
    "        self.previous_pars = []\n",
    "\n",
    "\n",
    "    def get_likelihood_data(self, data):\n",
    "        \n",
    "        return mixed_exgauss_likelihood(data, self.w, self.mu, self.sigma, self.nu)\n",
    "    \n",
    "    def get_bic_data(self, data):\n",
    "        likelihood = self.get_likelihood_data(data)\n",
    "        return - 2 * likelihood + self.n_parameters * np.log(data.shape[0])\n",
    "        \n",
    "        \n",
    "    def get_aic_data(self, data):\n",
    "        likelihood = self.get_likelihood_data(data)\n",
    "        return 2 * self.n_parameters - 2  * likelihood\n",
    "    \n",
    "\n",
    "    def _fit(self, **kwargs):\n",
    "        return _fit((self.data, self.n_clusters), **kwargs)\n",
    "\n",
    "\n",
    "\n",
    "    def fit(self, n_tries=1, **kwargs):\n",
    "        for run in np.arange(n_tries):\n",
    "\n",
    "            result = self._fit(**kwargs)\n",
    "            self.previous_likelihoods.append(-result.fun)\n",
    "\n",
    "            if -result.fun > self.likelihood:\n",
    "\n",
    "                pars = result.x\n",
    "                pars = np.insert(pars, self.n_clusters-1, 1 - np.sum(pars[:self.n_clusters-1]))\n",
    "\n",
    "                self.w = pars[:self.n_clusters][np.newaxis, :]\n",
    "                self.mu = pars[self.n_clusters:self.n_clusters*2][np.newaxis, :]\n",
    "                self.nu = pars[self.n_clusters*2:self.n_clusters*3][np.newaxis, :]\n",
    "                self.sigma = pars[self.n_clusters*3:self.n_clusters*4][np.newaxis, :]\n",
    "\n",
    "                self.likelihood = -result.fun\n",
    "\n",
    "        self.aic = 2 * self.n_parameters - 2 * self.likelihood\n",
    "        self.bic = - 2 * self.likelihood + self.n_parameters * np.log(self.data.shape[0])\n",
    "\n",
    "\n",
    "\n",
    "    def fit_multiproc(self, n_tries=4, n_proc=4, disp=False):\n",
    "\n",
    "        pool = Pool(n_proc)\n",
    "\n",
    "        print 'starting pool'\n",
    "        results = pool.map(_fit, [(self.data, self.n_clusters)] * n_tries)\n",
    "        print 'ready'\n",
    "\n",
    "        print results\n",
    "\n",
    "\n",
    "\n",
    "        pool.close()\n",
    "\n",
    "        for result in results:\n",
    "            self.previous_likelihoods.append(-result.fun)\n",
    "            self.previous_pars.append(result.x)\n",
    "\n",
    "            if -result.fun > self.likelihood:\n",
    "\n",
    "                pars = result.x\n",
    "                pars = np.insert(pars, self.n_clusters-1, 1 - np.sum(pars[:self.n_clusters-1]))\n",
    "\n",
    "                self.w = pars[:self.n_clusters][np.newaxis, :]\n",
    "                self.mu = pars[self.n_clusters:self.n_clusters*2][np.newaxis, :]\n",
    "                self.nu = pars[self.n_clusters*2:self.n_clusters*3][np.newaxis, :]\n",
    "                self.sigma = pars[self.n_clusters*3:self.n_clusters*4][np.newaxis, :]\n",
    "\n",
    "                self.likelihood = -result.fun\n",
    "\n",
    "        self.aic = 2 * self.n_parameters - 2 * self.likelihood\n",
    "        self.bic = - 2 * self.likelihood + self.n_parameters * np.log(self.data.shape[0])\n",
    "\n",
    "    def plot_fit(self):\n",
    "        # Create indiviudal pds\n",
    "\n",
    "        t = np.linspace(0, self.data.max(), 100)\n",
    "        pdfs = self.w * exgauss_pdf(t[:, np.newaxis], self.mu, self.nu, self.sigma)\n",
    "\n",
    "        sns.distplot(self.data)\n",
    "        plt.plot(t, pdfs, c='k', alpha=0.5)\n",
    "\n",
    "        plt.plot(t, np.sum(pdfs, 1), c='k', lw=2)"
   ]
  },
  {
   "cell_type": "code",
   "execution_count": 2,
   "metadata": {
    "collapsed": true
   },
   "outputs": [],
   "source": [
    "import pickle as pkl\n",
    "subject_ids = [14037, 15033, 15035, 14069, 13095, 14051, 15055]\n",
    "stains = [u'CALR', u'FER', u'GABRA3', u'GAD6567', u'MBP', u'PARV', u'SERT', u'SMI32', u'SYN', u'TH', u'TRANSF', u'VGLUT1']\n",
    "n_clusters = [1,2,3, 4, 5, 6]"
   ]
  },
  {
   "cell_type": "code",
   "execution_count": 6,
   "metadata": {
    "collapsed": true
   },
   "outputs": [],
   "source": [
    "import glob\n",
    "import re"
   ]
  },
  {
   "cell_type": "markdown",
   "metadata": {},
   "source": [
    "# BIC/AIC"
   ]
  },
  {
   "cell_type": "code",
   "execution_count": 7,
   "metadata": {
    "collapsed": false
   },
   "outputs": [],
   "source": [
    "fns = glob.glob('/home/gdholla1/data/post_mortem/ml_clusters_gradient/*.pkl')\n",
    "reg = re.compile('.*/(?P<subject_id>[0-9]+)_(?P<fwhm>[0-9]+\\.[0-9]+)_(?P<stain>.*)_(?P<n_clusters>[0-9]+)\\.pkl')\n",
    "\n",
    "import pandas\n",
    "fns = [fn for fn in fns if reg.match(fn)]\n",
    "df = pandas.DataFrame([reg.match(fn).groupdict() for fn in fns])\n",
    "df['fn'] = fns\n",
    "df['fwhm'] = df['fwhm'].astype(float)\n",
    "# df['bic'] = df.fn.apply(lambda fn: pkl.load(open(fn)).bic)\n",
    "# df['aic'] = df.fn.apply(lambda fn: pkl.load(open(fn)).aic)\n",
    "df['fit_object'] = df.fn.apply(lambda fn: pkl.load(open(fn)))\n",
    "\n",
    "df['bic'] = df.fit_object.apply(lambda x: x.bic)\n",
    "df['aic'] = df.fit_object.apply(lambda x: x.bic)"
   ]
  },
  {
   "cell_type": "code",
   "execution_count": 10,
   "metadata": {
    "collapsed": false
   },
   "outputs": [],
   "source": [
    "tmp = df[df.subject_id != '12104'].pivot_table(index=['subject_id','stain'], columns=['fwhm', 'n_clusters'])\n",
    "tmp['bic_best_model'] = np.nanargmin(tmp['bic', 0.3].values, 1) + 1\n",
    "tmp['aic_best_model'] = np.nanargmin(tmp['aic', 0.3].values, 1) + 1\n",
    "tmp = tmp.reset_index()"
   ]
  },
  {
   "cell_type": "code",
   "execution_count": 11,
   "metadata": {
    "collapsed": true
   },
   "outputs": [],
   "source": [
    "tmp_bic = tmp"
   ]
  },
  {
   "cell_type": "markdown",
   "metadata": {},
   "source": [
    "# Within-specimen cross validation"
   ]
  },
  {
   "cell_type": "code",
   "execution_count": 14,
   "metadata": {
    "collapsed": true
   },
   "outputs": [],
   "source": [
    "df = pandas.concat([pandas.read_pickle(fn) for fn in glob.glob('/home/gdholla1/data/post_mortem/ml_clusters_gradient_cross_validated/*_all.pandas')])"
   ]
  },
  {
   "cell_type": "code",
   "execution_count": 15,
   "metadata": {
    "collapsed": true
   },
   "outputs": [],
   "source": [
    "# df.pivot_table(index='subject_id', columns=['test', 'train', 'stain', 'n_clusters'], values='ll')\n",
    "df['ll_norm'] = df.groupby(['stain', 'subject_id']).ll.transform(lambda x: x / x.mean())\n",
    "df = df[df.subject_id != 12104]"
   ]
  },
  {
   "cell_type": "code",
   "execution_count": 16,
   "metadata": {
    "collapsed": true
   },
   "outputs": [],
   "source": [
    "df['out_of_sample'] = df.test != df.train\n"
   ]
  },
  {
   "cell_type": "code",
   "execution_count": 17,
   "metadata": {
    "collapsed": true
   },
   "outputs": [],
   "source": [
    "df['ll_norm'] = df.groupby(['stain', 'subject_id', 'fwhm']).ll.transform(lambda x: x / x.mean())"
   ]
  },
  {
   "cell_type": "code",
   "execution_count": 18,
   "metadata": {
    "collapsed": true
   },
   "outputs": [],
   "source": [
    "tmp = df.pivot_table(index=['out_of_sample', 'subject_id','stain'], columns=['fwhm', 'n_clusters'])\n",
    "tmp['number of clusters'] = np.nanargmax(tmp['ll_norm', 0.3].values, 1) + 1\n",
    "tmp = tmp.reset_index()\n",
    "tmp = tmp[tmp.out_of_sample]"
   ]
  },
  {
   "cell_type": "code",
   "execution_count": 19,
   "metadata": {
    "collapsed": true
   },
   "outputs": [],
   "source": [
    "tmp_cv_within = tmp"
   ]
  },
  {
   "cell_type": "code",
   "execution_count": 21,
   "metadata": {
    "collapsed": false
   },
   "outputs": [
    {
     "name": "stderr",
     "output_type": "stream",
     "text": [
      "/usr/local/lib/python2.7/dist-packages/ipykernel/__main__.py:3: SettingWithCopyWarning: \n",
      "A value is trying to be set on a copy of a slice from a DataFrame.\n",
      "Try using .loc[row_indexer,col_indexer] = value instead\n",
      "\n",
      "See the caveats in the documentation: http://pandas.pydata.org/pandas-docs/stable/indexing.html#indexing-view-versus-copy\n",
      "  app.launch_new_instance()\n",
      "/usr/local/lib/python2.7/dist-packages/ipykernel/__main__.py:4: SettingWithCopyWarning: \n",
      "A value is trying to be set on a copy of a slice from a DataFrame.\n",
      "Try using .loc[row_indexer,col_indexer] = value instead\n",
      "\n",
      "See the caveats in the documentation: http://pandas.pydata.org/pandas-docs/stable/indexing.html#indexing-view-versus-copy\n",
      "/usr/local/lib/python2.7/dist-packages/ipykernel/__main__.py:9: SettingWithCopyWarning: \n",
      "A value is trying to be set on a copy of a slice from a DataFrame.\n",
      "Try using .loc[row_indexer,col_indexer] = value instead\n",
      "\n",
      "See the caveats in the documentation: http://pandas.pydata.org/pandas-docs/stable/indexing.html#indexing-view-versus-copy\n"
     ]
    }
   ],
   "source": [
    "tmp_bic = tmp_bic[['subject_id', 'stain', 'bic_best_model']]\n",
    "tmp_bic.columns = tmp_bic.columns.get_level_values(0)\n",
    "tmp_bic['subject_id'] = tmp_bic['subject_id'].astype(int)\n",
    "tmp_bic['BIC/AIC'] = tmp_bic['bic_best_model']\n",
    "\n",
    "\n",
    "tmp_cv_within = tmp_cv_within[['subject_id', 'stain', 'number of clusters']]\n",
    "tmp_cv_within.columns = tmp_cv_within.columns.get_level_values(0)\n",
    "tmp_cv_within['cross validation within-specimens'] = tmp_cv_within['number of clusters']"
   ]
  },
  {
   "cell_type": "code",
   "execution_count": 22,
   "metadata": {
    "collapsed": true
   },
   "outputs": [],
   "source": [
    "tmp_swarm = tmp_bic.merge(tmp_cv_within, on=['subject_id', 'stain'], how='outer')"
   ]
  },
  {
   "cell_type": "code",
   "execution_count": 23,
   "metadata": {
    "collapsed": false
   },
   "outputs": [
    {
     "data": {
      "image/png": "[encoded data removed]",
      "text/plain": [
       "<matplotlib.figure.Figure at 0x9ea8d10>"
      ]
     },
     "metadata": {},
     "output_type": "display_data"
    }
   ],
   "source": [
    "fac = sns.swarmplot('stain', 'number of clusters', 'variable', pandas.melt(tmp_swarm, id_vars=['subject_id', 'stain'], value_vars=['BIC/AIC', 'cross validation within-specimens'], value_name='number of clusters'), split=True, size=15)\n",
    "sns.despine()\n",
    "plt.legend(bbox_to_anchor=(1.05, 1), loc=2, borderaxespad=0.)\n",
    "\n",
    "plt.gcf().set_size_inches(20, 6)"
   ]
  },
  {
   "cell_type": "markdown",
   "metadata": {},
   "source": [
    "# Get across-specimen cross validation\n"
   ]
  },
  {
   "cell_type": "code",
   "execution_count": 24,
   "metadata": {
    "collapsed": true
   },
   "outputs": [],
   "source": [
    "subject_ids = [14037, 15033, 15035, 14069, 13095, 14051, 15055]\n",
    "\n",
    "stains = [u'CALR', u'FER', u'GABRA3', u'GAD6567', u'MBP', u'PARV', u'SERT', u'SMI32', u'SYN', u'TH', u'TRANSF', u'VGLUT1']\n",
    "n_clusters = [1,2,3, 4, 5, 6]\n",
    "\n",
    "fwhm = 0.3"
   ]
  },
  {
   "cell_type": "code",
   "execution_count": 25,
   "metadata": {
    "collapsed": true
   },
   "outputs": [],
   "source": [
    "def rescale_distribution_to(target, other):    \n",
    "    def minimize_ks(pars):\n",
    "        a, b = pars\n",
    "        return sp.stats.ks_2samp(target, a + b * other)[0]\n",
    "    \n",
    "    result = sp.optimize.minimize(minimize_ks, ((0., 1.)), method='Nelder-Mead')\n",
    "    \n",
    "    a, b = result.x\n",
    "    \n",
    "    return a + b * other\n",
    "    \n",
    "    \n",
    "    "
   ]
  },
  {
   "cell_type": "code",
   "execution_count": null,
   "metadata": {
    "collapsed": true
   },
   "outputs": [],
   "source": [
    "results = []\n",
    "\n",
    "for subject_id in subject_ids:\n",
    "    for stain in stains:\n",
    "        for n_clusters in [1,2,3, 4, 5, 6]:\n",
    "            for other_subject_id in subject_ids:\n",
    "                print subject_id, stain, n_clusters, other_subject_id\n",
    "                \n",
    "                \n",
    "                try:\n",
    "                    model = pkl.load(open('/home/gdholla1/data/post_mortem/ml_clusters_gradient/{subject_id}_{fwhm}_{stain}_{n_clusters}.pkl'.format(**locals())))\n",
    "                    other_model = pkl.load(open('/home/gdholla1/data/post_mortem/ml_clusters_v2/{other_subject_id}_{fwhm}_{stain}_{n_clusters}.pkl'.format(**locals())))\n",
    "                    s = rescale_distribution_to(model.data, other_model.data)\n",
    "\n",
    "                    ll = model.get_likelihood_data(s)\n",
    "\n",
    "                    results.append({'train':subject_id,\n",
    "                                    'test':other_subject_id,\n",
    "                                    'n_clusters':n_clusters,\n",
    "                                    'stain':stain,\n",
    "                                    'fwhm':fwhm,\n",
    "                                    'll':ll})\n",
    "                    \n",
    "                except Exception as e:\n",
    "                    print \"Problem!\", e"
   ]
  }
 ],
 "metadata": {
  "kernelspec": {
   "display_name": "Python 2",
   "language": "python",
   "name": "python2"
  },
  "language_info": {
   "codemirror_mode": {
    "name": "ipython",
    "version": 2
   },
   "file_extension": ".py",
   "mimetype": "text/x-python",
   "name": "python",
   "nbconvert_exporter": "python",
   "pygments_lexer": "ipython2",
   "version": "2.7.3"
  }
 },
 "nbformat": 4,
 "nbformat_minor": 1
}
